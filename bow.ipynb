{
 "cells": [
  {
   "cell_type": "code",
   "execution_count": 1,
   "metadata": {},
   "outputs": [],
   "source": [
    "import bs4 as bs\n",
    "import nltk\n",
    "import re\n",
    "import urllib.request"
   ]
  },
  {
   "cell_type": "code",
   "execution_count": 10,
   "metadata": {},
   "outputs": [],
   "source": [
    "url = \"https://es.wikipedia.org/wiki/Big_Bang\"\n",
    "\n",
    "html_original = urllib.request.urlopen(url).read()\n",
    "\n",
    "html_articulo = bs.BeautifulSoup(html_original, \"html.parser\")\n",
    "parrafos_html = html_articulo.find_all('p')\n",
    "\n",
    "texto_articulo = ''\n",
    "for p in parrafos_html:\n",
    "    texto_articulo += p.text"
   ]
  },
  {
   "cell_type": "code",
   "execution_count": 16,
   "metadata": {},
   "outputs": [],
   "source": [
    "corpus = nltk.sent_tokenize(texto_articulo, \"spanish\")\n",
    "\n",
    "for i in range(len(corpus)):\n",
    "    corpus[i] = corpus[i].lower()\n",
    "    corpus[i] = re.sub(r'\\W', ' ', corpus[i])\n",
    "    corpus[i] = re.sub(r'\\s+', ' ', corpus[i])\n",
    "    "
   ]
  },
  {
   "cell_type": "code",
   "execution_count": null,
   "metadata": {},
   "outputs": [],
   "source": [
    "frecuencias_bow = {}\n",
    "\n",
    "for oracion in corpus:\n",
    "    tokens = nltk.word_tokenize(oracion, \"spanish\")\n",
    "    for token in tokens:\n",
    "        if token not in frecuencias_bow.keys():            \n",
    "            frecuencias_bow[token] = 1\n",
    "        else:\n",
    "            frecuencias_bow[token] += 1\n",
    "\n",
    "# un bag of words quitaría las palabras comunes\n",
    "frecuencias_bow"
   ]
  },
  {
   "cell_type": "code",
   "execution_count": null,
   "metadata": {},
   "outputs": [],
   "source": [
    "sorted(frecuencias_bow.items(), key=lambda x: x[1], reverse=True)"
   ]
  },
  {
   "cell_type": "code",
   "execution_count": null,
   "metadata": {},
   "outputs": [],
   "source": []
  }
 ],
 "metadata": {
  "interpreter": {
   "hash": "555d2c3c469aa225a7e9b0bef2b514ed5a2da662aa04cb8d49b5da76e701b314"
  },
  "kernelspec": {
   "display_name": "Python 3.9.10 64-bit",
   "language": "python",
   "name": "python3"
  },
  "language_info": {
   "codemirror_mode": {
    "name": "ipython",
    "version": 3
   },
   "file_extension": ".py",
   "mimetype": "text/x-python",
   "name": "python",
   "nbconvert_exporter": "python",
   "pygments_lexer": "ipython3",
   "version": "3.9.10"
  },
  "orig_nbformat": 4
 },
 "nbformat": 4,
 "nbformat_minor": 2
}
