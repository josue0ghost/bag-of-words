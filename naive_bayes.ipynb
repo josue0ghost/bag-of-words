{
 "cells": [
  {
   "cell_type": "code",
   "execution_count": 27,
   "metadata": {},
   "outputs": [],
   "source": [
    "spam = ['offer is secret', 'click secret link', 'secret sports link']\n",
    "ham = ['play sports today', 'went play sports', 'secret sports event', 'sports is today', 'sports cost money']\n",
    "\n",
    "total_sentences = len(spam) + len(ham)\n",
    "p_spam = len(spam) / total_sentences\n",
    "p_ham = len(ham) / total_sentences"
   ]
  },
  {
   "cell_type": "code",
   "execution_count": 28,
   "metadata": {},
   "outputs": [],
   "source": [
    "# tabla de frecuencias (BOW)\n",
    "\n",
    "def crear_tabla_frecuencias(corpus):\n",
    "    frecuencias = {}\n",
    "    for oracion in corpus:\n",
    "        tokens = oracion.split(' ')\n",
    "        for token in tokens:\n",
    "            if token not in frecuencias.keys():\n",
    "                frecuencias[token] = 1\n",
    "            else:\n",
    "                frecuencias[token] += 1\n",
    "\n",
    "    return frecuencias\n",
    "            "
   ]
  },
  {
   "cell_type": "code",
   "execution_count": 29,
   "metadata": {},
   "outputs": [],
   "source": [
    "# bows\n",
    "frecuencia_spam = crear_tabla_frecuencias(spam)\n",
    "frecuencia_ham = crear_tabla_frecuencias(ham)"
   ]
  },
  {
   "cell_type": "markdown",
   "metadata": {},
   "source": [
    "# Inferencia 1\n",
    "* Mensaje = 'sports'\n",
    "* P(C = spam | M = sports)"
   ]
  },
  {
   "cell_type": "code",
   "execution_count": 30,
   "metadata": {},
   "outputs": [],
   "source": [
    "def contar_palabras(corpus):\n",
    "    frecuencia = 0\n",
    "    for oracion in corpus:\n",
    "        frecuencia += len(oracion.split(' '))\n",
    "    \n",
    "    return frecuencia"
   ]
  },
  {
   "cell_type": "code",
   "execution_count": 31,
   "metadata": {},
   "outputs": [],
   "source": [
    "total_spam = contar_palabras(spam)\n",
    "total_ham = contar_palabras(ham)"
   ]
  },
  {
   "cell_type": "markdown",
   "metadata": {},
   "source": [
    "$$\n",
    "\n",
    "P(SPAM|M) = \\frac{P(M|SPAM) * P(SPAM)}{P(M)}\n",
    "\n",
    "$$"
   ]
  },
  {
   "cell_type": "code",
   "execution_count": 32,
   "metadata": {},
   "outputs": [],
   "source": [
    "# frecuencia_spam = cuenta total de cada palabra dentro del universo de SPAM\n",
    "# P(M=\"secret\" | SPAM) = frecuencia_secret / total_palabras_spam\n",
    "\n",
    "# secret\n",
    "p_secret = frecuencia_spam[\"secret\"] / total_spam\n",
    "\n",
    "def transformar_frecuencia_probabilidad(frecuencias, total):\n",
    "    cpt_equivalente = {}\n",
    "    for k,v in frecuencias.items():\n",
    "        probabilidad = v / total\n",
    "        cpt_equivalente[k] = probabilidad\n",
    "    \n",
    "    return cpt_equivalente\n",
    "    "
   ]
  },
  {
   "cell_type": "code",
   "execution_count": null,
   "metadata": {},
   "outputs": [],
   "source": [
    "\n",
    "cpt_spam = transformar_frecuencia_probabilidad(frecuencia_spam, total_spam)\n",
    "cpt_ham = transformar_frecuencia_probabilidad(frecuencia_ham, total_ham)"
   ]
  },
  {
   "cell_type": "markdown",
   "metadata": {},
   "source": [
    "# Inferencia\n",
    "\n",
    "* Mensaje = \"sports\"\n",
    "* P(SPAM|M)\n",
    "\n",
    "$$\n",
    "P(SPAM|M) = \\frac{P(M|SPAM) * P(SPAM)}{P(M)}\n",
    "$$\n",
    "\n",
    "# regla del producto\n",
    "$$\n",
    "P(SPAM|M) = \\frac{P(M|SPAM) * P(SPAM)}{P(M|SPAM) * P(SPAM) + P(M|HAM) * P(HAM)}\n",
    "$$\n"
   ]
  },
  {
   "cell_type": "code",
   "execution_count": 34,
   "metadata": {},
   "outputs": [
    {
     "name": "stdout",
     "output_type": "stream",
     "text": [
      "0.16666666666666669\n"
     ]
    }
   ],
   "source": [
    "p_mensaje_spam = (cpt_spam[\"sports\"]*p_spam) / (cpt_spam[\"sports\"]*p_spam + cpt_ham[\"sports\"]*p_ham)\n",
    "print(p_mensaje_spam)"
   ]
  },
  {
   "cell_type": "markdown",
   "metadata": {},
   "source": [
    "# Inferencia 2\n",
    "\n",
    "* Mensaje = \"secret is secret\"\n",
    "* P(SPAM|M)\n",
    "\n",
    "$$\n",
    "P(M=\"secret\\ is\\ scret\"|SPAM) = P(\"secret\"|SPAM) * P(\"is\"|SPAM) * P(\"secret\"|HAM) \n",
    "$$\n",
    "\n",
    "# regla del producto\n",
    "$$\n",
    "P(SPAM|M) = \\frac{P(M|SPAM) * P(SPAM)}{P(M|SPAM) * P(SPAM) + P(M|HAM) * P(HAM)}\n",
    "$$"
   ]
  },
  {
   "cell_type": "code",
   "execution_count": 36,
   "metadata": {},
   "outputs": [
    {
     "data": {
      "text/plain": [
       "0.9615384615384616"
      ]
     },
     "execution_count": 36,
     "metadata": {},
     "output_type": "execute_result"
    }
   ],
   "source": [
    "# Mensaje = \"secret is secret\"\n",
    "\n",
    "p_mensaje_completo = (cpt_spam[\"secret\"] * cpt_spam[\"is\"] * cpt_spam[\"secret\"] * p_spam) / ((cpt_spam[\"secret\"] * cpt_spam[\"is\"] * cpt_spam[\"secret\"] * p_spam) + (cpt_ham[\"secret\"] * cpt_ham[\"is\"] * cpt_ham[\"secret\"] * p_ham))\n",
    "p_mensaje_completo"
   ]
  },
  {
   "cell_type": "code",
   "execution_count": 37,
   "metadata": {},
   "outputs": [
    {
     "data": {
      "text/plain": [
       "0.5"
      ]
     },
     "execution_count": 37,
     "metadata": {},
     "output_type": "execute_result"
    }
   ],
   "source": [
    "# Mensaje = \"secret sports\"\n",
    "\n",
    "p_mensaje_completo = (cpt_spam[\"secret\"] * cpt_spam[\"sports\"] * p_spam) / ((cpt_spam[\"secret\"] * cpt_spam[\"sports\"] * p_spam) + (cpt_ham[\"secret\"] * cpt_ham[\"sports\"] * p_ham))\n",
    "p_mensaje_completo"
   ]
  },
  {
   "cell_type": "code",
   "execution_count": null,
   "metadata": {},
   "outputs": [],
   "source": []
  }
 ],
 "metadata": {
  "interpreter": {
   "hash": "555d2c3c469aa225a7e9b0bef2b514ed5a2da662aa04cb8d49b5da76e701b314"
  },
  "kernelspec": {
   "display_name": "Python 3.9.10 64-bit",
   "language": "python",
   "name": "python3"
  },
  "language_info": {
   "codemirror_mode": {
    "name": "ipython",
    "version": 3
   },
   "file_extension": ".py",
   "mimetype": "text/x-python",
   "name": "python",
   "nbconvert_exporter": "python",
   "pygments_lexer": "ipython3",
   "version": "3.9.10"
  },
  "orig_nbformat": 4
 },
 "nbformat": 4,
 "nbformat_minor": 2
}
